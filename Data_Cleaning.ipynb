{
 "cells": [
  {
   "cell_type": "code",
   "execution_count": 1,
   "metadata": {},
   "outputs": [],
   "source": [
    "import pandas as pd\n",
    "import numpy as np"
   ]
  },
  {
   "cell_type": "code",
   "execution_count": 2,
   "metadata": {},
   "outputs": [],
   "source": [
    "cycle_data = pd.read_csv(\"FedCycleData071012.csv\")"
   ]
  },
  {
   "cell_type": "code",
   "execution_count": null,
   "metadata": {},
   "outputs": [],
   "source": [
    "## fill empty `EstimatedDayOfOvulation` with mean for that individual\n",
    "replace_str = cycle_data.at[1639,'EstimatedDayofOvulation']\n",
    "cycle_data['EstimatedDayofOvulation'].replace(replace_str,np.nan,inplace=True)\n",
    "cycle_data['EstimatedDayofOvulation'].replace([np.inf, -np.inf], np.nan, inplace=True)\n",
    "cycle_data['EstimatedDayofOvulation'] = cycle_data['EstimatedDayofOvulation'].astype(float)\n",
    "cycle_data['EstimatedDayofOvulation'] = cycle_data['EstimatedDayofOvulation'].fillna(cycle_data.groupby('ClientID')['EstimatedDayofOvulation'].transform('mean'))\n",
    "\n",
    "# if there are extra NaNs, replace those with the mean for the dataset\n",
    "cycle_data['EstimatedDayofOvulation'].fillna(cycle_data['EstimatedDayofOvulation'].mean(),inplace=True)\n",
    "cycle_data['EstimatedDayofOvulation'] = cycle_data['EstimatedDayofOvulation'].round(0).astype(int)"
   ]
  },
  {
   "cell_type": "code",
   "execution_count": null,
   "metadata": {},
   "outputs": [],
   "source": []
  },
  {
   "cell_type": "code",
   "execution_count": null,
   "metadata": {},
   "outputs": [],
   "source": []
  },
  {
   "cell_type": "code",
   "execution_count": null,
   "metadata": {},
   "outputs": [],
   "source": [
    "# Creates new feature MensesIrregular based on whether or not \n",
    "#LengthofMenses is within one standard deviation of mean LengthofMenses for entire dataframe\n",
    "\n",
    "cycle_data['LengthofMenses'] = cycle_data['LengthofMenses'].astype(float)\n",
    "std_dev_menses = cycle_data['LengthofMenses'].std()\n",
    "mean_menses = cycle_data['LengthofMenses'].mean()\n",
    "\n",
    "def menses_irregular(row):\n",
    "    if row['LengthofMenses'] < mean_menses+std_dev_menses and row['LengthofMenses'] > mean_menses-std_dev_menses:\n",
    "        return 'No'\n",
    "    else:\n",
    "        return 'Yes'\n",
    "\n",
    "cycle_data['IrregularMenses'] = cycle_data.apply(menses_irregular, axis=1)"
   ]
  },
  {
   "cell_type": "code",
   "execution_count": null,
   "metadata": {},
   "outputs": [],
   "source": []
  },
  {
   "cell_type": "code",
   "execution_count": null,
   "metadata": {},
   "outputs": [],
   "source": [
    "'''\n",
    "This code downfills data for an individual. The replace_str is used because the missing data is in \n",
    "as an empty string (the amount of white space in the string varies based on which column we're looking at:(), \n",
    "so that replace_str is changed to nan, the type of the column is changed from object to float, \n",
    "and then the mean can be downfilled using a groupby() and ffill()\n",
    "'''\n",
    "\n",
    "\n",
    "\n",
    "replace_str = cycle_data.at[1,'MeanCycleLength']\n",
    "cycle_data['MeanCycleLength'].replace(replace_str,np.nan,inplace=True)\n",
    "cycle_data['MeanCycleLength'] = cycle_data['MeanCycleLength'].astype(float)\n",
    "# downfill mean cycle length\n",
    "cycle_data['MeanCycleLength'] = cycle_data.groupby('ClientID')['MeanCycleLength'].ffill()"
   ]
  }
 ],
 "metadata": {
  "kernelspec": {
   "display_name": "Python 3",
   "language": "python",
   "name": "python3"
  },
  "language_info": {
   "codemirror_mode": {
    "name": "ipython",
    "version": 3
   },
   "file_extension": ".py",
   "mimetype": "text/x-python",
   "name": "python",
   "nbconvert_exporter": "python",
   "pygments_lexer": "ipython3",
   "version": "3.7.5"
  }
 },
 "nbformat": 4,
 "nbformat_minor": 2
}
