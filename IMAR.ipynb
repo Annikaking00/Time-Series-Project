{
 "cells": [
  {
   "cell_type": "code",
   "execution_count": 79,
   "metadata": {},
   "outputs": [],
   "source": [
    "import math\n",
    "import numpy as np\n",
    "import statsmodels.api as sm\n",
    "from statsmodels.base.model import GenericLikelihoodModel\n",
    "from scipy.stats import poisson\n",
    "from scipy.stats import binom\n",
    "from patsy import dmatrices\n",
    "import statsmodels.graphics.tsaplots as tsa\n",
    "from matplotlib import pyplot as plt"
   ]
  },
  {
   "cell_type": "code",
   "execution_count": 137,
   "metadata": {},
   "outputs": [],
   "source": [
    "cycle_data = pd.read_csv(\"FedCycleData071012.csv\")"
   ]
  },
  {
   "cell_type": "markdown",
   "metadata": {},
   "source": [
    "# Data Cleaning"
   ]
  },
  {
   "cell_type": "code",
   "execution_count": 138,
   "metadata": {},
   "outputs": [],
   "source": [
    "## fill empty `EstimatedDayOfOvulation` with mean for that individual\n",
    "replace_str = cycle_data.at[1639,'EstimatedDayofOvulation']\n",
    "cycle_data['EstimatedDayofOvulation'].replace(replace_str,np.nan,inplace=True)\n",
    "cycle_data['EstimatedDayofOvulation'].replace([np.inf, -np.inf], np.nan, inplace=True)\n",
    "cycle_data['EstimatedDayofOvulation'] = cycle_data['EstimatedDayofOvulation'].astype(float)\n",
    "cycle_data['EstimatedDayofOvulation'] = cycle_data['EstimatedDayofOvulation'].fillna(cycle_data.groupby('ClientID')['EstimatedDayofOvulation'].transform('mean'))\n",
    "\n",
    "# if there are extra NaNs, replace those with the mean for the dataset\n",
    "cycle_data['EstimatedDayofOvulation'].fillna(cycle_data['EstimatedDayofOvulation'].mean(),inplace=True)\n",
    "cycle_data['EstimatedDayofOvulation'] = cycle_data['EstimatedDayofOvulation'].round(0).astype(int)"
   ]
  },
  {
   "cell_type": "code",
   "execution_count": 217,
   "metadata": {},
   "outputs": [],
   "source": [
    "data = cycle_data.loc[df[\"ClientID\"] == 'nfp8122']\n"
   ]
  },
  {
   "cell_type": "code",
   "execution_count": 218,
   "metadata": {},
   "outputs": [],
   "source": [
    "data[\"Const\"] = 1"
   ]
  },
  {
   "cell_type": "code",
   "execution_count": null,
   "metadata": {},
   "outputs": [],
   "source": []
  },
  {
   "cell_type": "code",
   "execution_count": 219,
   "metadata": {},
   "outputs": [],
   "source": [
    "X = data[['Const','LengthofLutealPhase','LengthofMenses',\"TotalMensesScore\",\"TotalFertilityFormula\",\"EstimatedDayofOvulation\"]]\n",
    "y = data[\"LengthofCycle\"]"
   ]
  },
  {
   "cell_type": "code",
   "execution_count": 220,
   "metadata": {},
   "outputs": [],
   "source": [
    "X[\"LengthofLutealPhase\"] = y - X[\"EstimatedDayofOvulation\"]"
   ]
  },
  {
   "cell_type": "code",
   "execution_count": 221,
   "metadata": {},
   "outputs": [],
   "source": [
    "cols = ['Const','LengthofLutealPhase','LengthofMenses',\"TotalMensesScore\",\"TotalFertilityFormula\",\"EstimatedDayofOvulation\"]\n",
    "for col in cols:\n",
    "    X[col] = X[col].astype(int)"
   ]
  },
  {
   "cell_type": "code",
   "execution_count": null,
   "metadata": {},
   "outputs": [],
   "source": [
    "#offset for algorihm"
   ]
  },
  {
   "cell_type": "code",
   "execution_count": 222,
   "metadata": {},
   "outputs": [],
   "source": [
    "X = X[0:-1]\n",
    "y = y[1:]"
   ]
  },
  {
   "cell_type": "code",
   "execution_count": null,
   "metadata": {},
   "outputs": [],
   "source": [
    "#train test split"
   ]
  },
  {
   "cell_type": "code",
   "execution_count": 260,
   "metadata": {},
   "outputs": [],
   "source": [
    "X_train, X_test = np.array(X[:37]), np.array(X[37:])\n",
    "\n",
    "y_train, y_test = np.array(y[:37]).reshape(-1,1), np.array(y[37:]).reshape(-1,1)"
   ]
  },
  {
   "cell_type": "code",
   "execution_count": 330,
   "metadata": {},
   "outputs": [],
   "source": [
    "class PoissonINAR(GenericLikelihoodModel):\n",
    "    def __init__(self, endog, exog, **kwds):\n",
    "        super(PoissonINAR, self).__init__(endog, exog, **kwds)\n",
    "\n",
    "    def nloglikeobs(self, params):\n",
    "        #Fetch the parameters gamma and beta that we would be optimizing\n",
    "        x = len(params)\n",
    "        gamma = .01*params[-1]\n",
    "        beta = .01*np.ones(x-1)\n",
    "        beta = np.array([.01,.05,.03,.07,.05,.02])\n",
    "        \n",
    "        #Set y and X\n",
    "        y = self.endog\n",
    "        y = np.array(y)\n",
    "        X = self.exog\n",
    "       \n",
    "        #Compute rho as a function of gamma\n",
    "        rho = 1.0/(1.0+math.exp(-gamma))\n",
    "        \n",
    "        #Compute the Poisson mean mu as a dot product of X and Beta\n",
    "        mu = np.exp(X.dot(beta))\n",
    "        #print(mu)\n",
    "        #Init the list of loglikelihhod values, one value for each y\n",
    "        ll = []\n",
    "        #Compute all the log-likelihood values for the Poisson INAR(1) model\n",
    "        for t in range(len(y)-1,0,-1):\n",
    "            prob_y_t = 0\n",
    "            for j in range(int(min(y[t], y[t-1])+1)):\n",
    "                l = binom.pmf(j, y[t-1], rho)\n",
    "                #print(y[t] - j, mu[t])\n",
    "                m = poisson.pmf((y[t]-j), mu[t])\n",
    "                #print(l)\n",
    "                #print(m)\n",
    "                prob_y_t += m * l\n",
    "                \n",
    "            ll.append(math.log(prob_y_t))\n",
    "        ll = np.array(ll)\n",
    "        #print('gamma='+str(gamma) + ' rho='+str(rho) + ' beta='+str(beta) + ' ll='+str(((-ll).sum(0))))\n",
    "        #return the negated array of  log-likelihood values\n",
    "        return -ll\n",
    "\n",
    "    def fit(self, start_params=None, maxiter=1000, maxfun=5000, **kwds):\n",
    "        #Add the gamma parameter to the list of exogneous variables that\n",
    "        # the model will optimize\n",
    "        self.exog_names.append('gamma')\n",
    "        if start_params == None:\n",
    "            #Start with some initial values of Beta and gamma\n",
    "            start_params = np.append(np.ones(self.exog.shape[1]), 1.0)\n",
    "        #Call super.fit() to start the training\n",
    "        return super(PoissonINAR, self).fit(start_params=start_params,\n",
    "            maxiter=maxiter, maxfun=maxfun, **kwds)\n",
    "\n",
    "    def predict(self, params, exog=None, *args, **kwargs):\n",
    "        #Fetch the optimized values of parameters gamma and beta\n",
    "        fitted_gamma = params[-1]\n",
    "        fitted_beta = params[:-1]\n",
    "        X = np.array(exog)\n",
    "        #Compute rho as a function of gamma\n",
    "        rho = 1.0/(1.0+math.exp(-fitted_gamma))\n",
    "        #Fetch the Intercept and the regression variables,\n",
    "        # except for the last column which contains the lagged y values\n",
    "        X = exog[:,:-1]\n",
    "        \n",
    "        #Fetch the lagged y values\n",
    "        y_lag_1 = exog[:,-1]\n",
    "        \n",
    "        #Compute the predicted y using the Poisson INAR(1) model's equation\n",
    "        y_pred = rho * y_lag_1 + np.exp(X.dot(fitted_beta))\n",
    "        return y_pred"
   ]
  },
  {
   "cell_type": "code",
   "execution_count": 331,
   "metadata": {},
   "outputs": [
    {
     "name": "stdout",
     "output_type": "stream",
     "text": [
      "Optimization terminated successfully.\n",
      "         Current function value: 2.565893\n",
      "         Iterations: 186\n",
      "         Function evaluations: 330\n"
     ]
    },
    {
     "name": "stderr",
     "output_type": "stream",
     "text": [
      "/Library/Frameworks/Python.framework/Versions/3.7/lib/python3.7/site-packages/statsmodels/base/model.py:548: HessianInversionWarning: Inverting hessian failed, no bse or cov_params available\n",
      "  'available', HessianInversionWarning)\n"
     ]
    }
   ],
   "source": [
    "inar_model = PoissonINAR(y_train, X_train)\n",
    "inar_model_results = inar_model.fit()"
   ]
  },
  {
   "cell_type": "code",
   "execution_count": null,
   "metadata": {},
   "outputs": [],
   "source": [
    "#matrix for prediction"
   ]
  },
  {
   "cell_type": "code",
   "execution_count": 334,
   "metadata": {},
   "outputs": [],
   "source": [
    "temp_X_test = np.zeros((7,7))\n",
    "temp_X_test[:,:-1] = X_test\n",
    "temp_X_test[:,-1] = y_test[0]"
   ]
  },
  {
   "cell_type": "code",
   "execution_count": 335,
   "metadata": {},
   "outputs": [],
   "source": [
    "inar_predictions = np.round(inar_model_results.predict(exog=temp_X_test))"
   ]
  },
  {
   "cell_type": "code",
   "execution_count": null,
   "metadata": {},
   "outputs": [],
   "source": []
  },
  {
   "cell_type": "code",
   "execution_count": 343,
   "metadata": {},
   "outputs": [
    {
     "data": {
      "image/png": "[encoded data removed]",
      "text/plain": [
       "<Figure size 432x288 with 1 Axes>"
      ]
     },
     "metadata": {
      "needs_background": "light"
     },
     "output_type": "display_data"
    }
   ],
   "source": [
    "predicted_counts=inar_predictions\n",
    "actual_counts = y_test.reshape(1,-1)[0]\n",
    "fig = plt.figure(figsize = (6,4))\n",
    "fig.suptitle(\"INAR(1) Model on nfp8122\")\n",
    "predicted, = plt.plot( predicted_counts, 'go-', label='Predicted counts')\n",
    "actual, = plt.plot( actual_counts, 'ro-', label='Actual counts')\n",
    "plt.ylabel(\"Cycle Length\")\n",
    "plt.legend(handles=[predicted, actual])\n",
    "plt.savefig(\"INAR_nfp8122\")\n",
    "plt.show()\n"
   ]
  }
 ],
 "metadata": {
  "kernelspec": {
   "display_name": "Python 3",
   "language": "python",
   "name": "python3"
  },
  "language_info": {
   "codemirror_mode": {
    "name": "ipython",
    "version": 3
   },
   "file_extension": ".py",
   "mimetype": "text/x-python",
   "name": "python",
   "nbconvert_exporter": "python",
   "pygments_lexer": "ipython3",
   "version": "3.7.5"
  }
 },
 "nbformat": 4,
 "nbformat_minor": 2
}
