{
 "cells": [
  {
   "cell_type": "code",
   "execution_count": 1,
   "metadata": {},
   "outputs": [],
   "source": [
    "import numpy as np\n",
    "from matplotlib import pyplot as plt\n",
    "import pandas as pd\n",
    "from scipy import linalg as la\n",
    "from pykalman import KalmanFilter as K_F\n",
    "#from filterpy.kalman import KalmanFilter\n",
    "import os\n",
    "from scipy.linalg import inv, norm"
   ]
  },
  {
   "cell_type": "code",
   "execution_count": null,
   "metadata": {},
   "outputs": [],
   "source": []
  },
  {
   "cell_type": "code",
   "execution_count": 2,
   "metadata": {},
   "outputs": [],
   "source": [
    "df = pd.read_csv(\"FedCycleData071012.csv\")"
   ]
  },
  {
   "cell_type": "code",
   "execution_count": 3,
   "metadata": {},
   "outputs": [
    {
     "data": {
      "text/plain": [
       "array(['nfp8122', 'nfp8114', 'nfp8109', 'nfp8107', 'nfp8106', 'nfp8024',\n",
       "       'nfp8020', 'nfp8026', 'nfp8030', 'nfp8031', 'nfp8032', 'nfp8034',\n",
       "       'nfp8036', 'nfp8040', 'nfp8041', 'nfp8042', 'nfp8043', 'nfp8045',\n",
       "       'nfp8046', 'nfp8047', 'nfp8049', 'nfp8050', 'nfp8051', 'nfp8057',\n",
       "       'nfp8058', 'nfp8060', 'nfp8062', 'nfp8063', 'nfp8064', 'nfp8066',\n",
       "       'nfp8068', 'nfp8069', 'nfp8072', 'nfp8073', 'nfp8074', 'nfp8076',\n",
       "       'nfp8079', 'nfp8080', 'nfp8083', 'nfp8085', 'nfp8087', 'nfp8091',\n",
       "       'nfp8094', 'nfp8099', 'nfp8100', 'nfp8101', 'nfp8102', 'nfp8110',\n",
       "       'nfp8113', 'nfp8116', 'nfp8123', 'nfp8124', 'nfp8129', 'nfp8131',\n",
       "       'nfp8133', 'nfp8137', 'nfp8140', 'nfp8143', 'nfp8144', 'nfp8149',\n",
       "       'nfp8150', 'nfp8152', 'nfp8154', 'nfp8155', 'nfp8159', 'nfp8161',\n",
       "       'nfp8164', 'nfp8165', 'nfp8168', 'nfp8172', 'nfp8173', 'nfp8174',\n",
       "       'nfp8176', 'nfp8177', 'nfp8178', 'nfp8179', 'nfp8184', 'nfp8186',\n",
       "       'nfp8187', 'nfp8188', 'nfp8189', 'nfp8190', 'nfp8192', 'nfp8193',\n",
       "       'nfp8195', 'nfp8196', 'nfp8197', 'nfp8200', 'nfp8206', 'nfp8207',\n",
       "       'nfp8209', 'nfp8210', 'nfp8211', 'nfp8212', 'nfp8218', 'nfp8221',\n",
       "       'nfp8223', 'nfp8226', 'nfp8228', 'nfp8229', 'nfp8230', 'nfp8233',\n",
       "       'nfp8234', 'nfp8235', 'nfp8236', 'nfp8237', 'nfp8238', 'nfp8240',\n",
       "       'nfp8242', 'nfp8244', 'nfp8246', 'nfp8247', 'nfp8248', 'nfp8249',\n",
       "       'nfp8252', 'nfp8253', 'nfp8254', 'nfp8257', 'nfp8260', 'nfp8263',\n",
       "       'nfp8264', 'nfp8266', 'nfp8268', 'nfp8269', 'nfp8270', 'nfp8271',\n",
       "       'nfp8272', 'nfp8276', 'nfp8278', 'nfp8279', 'nfp8281', 'nfp8282',\n",
       "       'nfp8284', 'nfp8286', 'nfp8288', 'nfp8289', 'nfp8290', 'nfp8292',\n",
       "       'nfp8293', 'nfp8294', 'nfp8296', 'nfp8298', 'nfp8299', 'nfp8302',\n",
       "       'nfp8303', 'nfp8305', 'nfp8306', 'nfp8308', 'nfp8309', 'nfp8310',\n",
       "       'nfp8311', 'nfp8312', 'nfp8313', 'nfp8317', 'nfp8322', 'nfp8323',\n",
       "       'nfp8324', 'nfp8328', 'nfp8334'], dtype=object)"
      ]
     },
     "execution_count": 3,
     "metadata": {},
     "output_type": "execute_result"
    }
   ],
   "source": [
    "df[\"ClientID\"].unique()"
   ]
  },
  {
   "cell_type": "code",
   "execution_count": 4,
   "metadata": {},
   "outputs": [],
   "source": [
    "data = df.loc[df[\"ClientID\"] == 'nfp8122']\n",
    "\n"
   ]
  },
  {
   "cell_type": "code",
   "execution_count": 5,
   "metadata": {},
   "outputs": [],
   "source": [
    "y = np.array(data[\"LengthofCycle\"])"
   ]
  },
  {
   "cell_type": "code",
   "execution_count": 6,
   "metadata": {},
   "outputs": [],
   "source": [
    "\n",
    "y = np.array(data[\"LengthofCycle\"])\n",
    "train = y[:40]\n",
    "test = y[-5:]\n"
   ]
  },
  {
   "cell_type": "code",
   "execution_count": 7,
   "metadata": {},
   "outputs": [],
   "source": [
    "def SBR(N, k, p, N_states, train):\n",
    "    Yf = np.vstack([train[i:i+N] for i in range(k,2*k)])\n",
    "    Yp = np.vstack([train[i: i + N] for i in range(k-1,-1,-1)])\n",
    "\n",
    "    sigma_pp = 1/N*Yp@Yp.T\n",
    "    sigma_ff = 1/N*Yf@Yf.T\n",
    "    sigma_fp = 1/N * Yf@Yp.T\n",
    "    sigma_pf = 1/N * Yp@Yf.T\n",
    "    \n",
    "    L = la.sqrtm(sigma_ff)\n",
    "    M = la.sqrtm(sigma_pp)\n",
    "    \n",
    "    \n",
    "    S = la.inv(L)@sigma_fp @ la.inv(M).T\n",
    "    U,s,Vh = la.svd(S)\n",
    "\n",
    "    U = U[:,:N_states]\n",
    "    s = np.diag(s[:N_states])    \n",
    "    Vh = Vh[:N_states] \n",
    "    \n",
    "    O_k = L@U@np.sqrt(s)\n",
    "    C_k = np.sqrt(s)@Vh@(M.T)\n",
    "    \n",
    "    Ohk = O_k[p:k*p,:]\n",
    "    Olk = O_k[:(k-1)*p,:]\n",
    "\n",
    "    A = np.linalg.pinv(Ohk)@Olk\n",
    "\n",
    "    C = O_k[:p,:]\n",
    "    ChT = C_k[:,:p]\n",
    "\n",
    "    R = np.cov(y) - C@s@(C.T)\n",
    "    K = (ChT - A@s@(C.T))@np.linalg.inv(np.cov(y) - C@s@(C.T))\n",
    "    \n",
    "    \n",
    "    return A, C, R, K\n"
   ]
  },
  {
   "cell_type": "code",
   "execution_count": 8,
   "metadata": {},
   "outputs": [],
   "source": [
    "class KalmanFilter(object):\n",
    "    def __init__(self,F,Q,H,R,u):\n",
    "        \"\"\"\n",
    "        Initialize the dynamical system models.\n",
    "\n",
    "        Parameters\n",
    "        ----------\n",
    "        F : ndarray of shape (n,n)\n",
    "            The state transition model.\n",
    "        Q : ndarray of shape (n,n)\n",
    "            The covariance matrix for the state noise.\n",
    "        H : ndarray of shape (m,n)\n",
    "            The observation model.\n",
    "        R : ndarray of shape (m,m)\n",
    "            The covariance matric for observation noise.\n",
    "        u : ndarray of shape (n,)\n",
    "            The control vector.\n",
    "        \"\"\"\n",
    "        self.F = F\n",
    "        self.Q = Q\n",
    "        self.H = H\n",
    "        self.R = R\n",
    "        self.u = u\n",
    "\n",
    "    def evolve(self,x0,N):\n",
    "        \"\"\"\n",
    "        Compute the first N states and observations generated by the Kalman system.\n",
    "\n",
    "        Parameters\n",
    "        ----------\n",
    "        x0 : ndarray of shape (n,)\n",
    "            The initial state.\n",
    "        N : integer\n",
    "            The number of time steps to evolve.\n",
    "\n",
    "        Returns\n",
    "        -------\n",
    "        states : ndarray of shape (n,N)\n",
    "            The i-th column gives the i-th state.\n",
    "        obs : ndarray of shape (m,N)\n",
    "            The i-th column gives the i-th observation.\n",
    "        \"\"\"\n",
    "        #initialize to populate with obs and states\n",
    "        obs = np.zeros((self.H.shape[0],N))\n",
    "        states = np.zeros((len(x0),N))\n",
    "        states[:,0] = x0\n",
    "        m,N = obs.shape\n",
    "        for i in range(N-1):\n",
    "            # F *x_i - 1 + u[i] + noise\n",
    "            states[:,i+1] = self.F@states[:,i] +self.u + np.random.multivariate_normal(np.zeros_like(x0),self.Q)\n",
    "            # transition from X to Z\n",
    "            obs[:,i] = self.H@states[:,i] + np.random.multivariate_normal(np.zeros(m),self.R)\n",
    "        #still need the last observation\n",
    "        obs[:,-1] = self.H@states[:,-1] + np.random.multivariate_normal(np.zeros(m),self.R)\n",
    "\n",
    "        return states, obs\n",
    "\n",
    "    def estimate(self,x0,P0,z, return_norms = False):\n",
    "        \"\"\"\n",
    "        Compute the state estimates using the kalman filter.\n",
    "\n",
    "        Parameters\n",
    "        ----------\n",
    "        x0 : ndarray of shape (n,)\n",
    "            The initial state estimate.\n",
    "        P0 : ndarray of shape (n,n)\n",
    "            The initial error covariance matrix.\n",
    "        z : ndarray of shape(m,N)\n",
    "            Sequence of N observations (each column is an observation).\n",
    "\n",
    "        Returns\n",
    "        -------\n",
    "        out : ndarray of shape (n,N)\n",
    "            Sequence of state estimates (each column is an estimate).\n",
    "        norms: list of floats of length N\n",
    "            Gives the norm of the error matrix for each estimate.\n",
    "        \"\"\"\n",
    "        n = len(x0)\n",
    "        I = np.eye(n)\n",
    "        #iinitialize\n",
    "        \n",
    "        \n",
    "        if z.ndim == 1:\n",
    "            N = len(z)\n",
    "            out = np.zeros((n,N))\n",
    "            out[:,0] = x0\n",
    "            for i in range(N-1):\n",
    "                #Predict\n",
    "                \n",
    "                xk_p = self.F@out[:,i] + self.u\n",
    "\n",
    "                pk_p = self.F@ P0 @(self.F.T) + self.Q\n",
    "\n",
    "                #update\n",
    "                yk = z[i+1] - self.H@xk_p\n",
    "\n",
    "                Sk = self.H@pk_p@(self.H.T) + self.R\n",
    "\n",
    "                Kk = pk_p@(self.H.T)@inv(Sk)\n",
    "\n",
    "                out[:,i+1] = xk_p + Kk@yk\n",
    "\n",
    "                P0 = (I - Kk@self.H)@pk_p #overwrite P0\n",
    "                \n",
    "        else:\n",
    "            m,N = z.shape\n",
    "            out = np.zeros((n,N))\n",
    "            out[:,0] = x0\n",
    "\n",
    "            for i in range(N-1):\n",
    "                #Predict\n",
    "                xk_p = self.F@out[:,i] + self.u\n",
    "\n",
    "                pk_p = self.F@ P0 @(self.F.T) + self.Q\n",
    "\n",
    "                #update\n",
    "                yk = z[:,i+1] - self.H@xk_p\n",
    "\n",
    "                Sk = self.H@pk_p@(self.H.T) + self.R\n",
    "\n",
    "                Kk = pk_p@(self.H.T)@inv(Sk)\n",
    "\n",
    "                out[:,i+1] = xk_p + Kk@yk\n",
    "\n",
    "                P0 = (I - Kk@self.H)@pk_p #overwrite P0\n",
    "\n",
    "\n",
    "        return out\n",
    "\n",
    "\n",
    "\n",
    "    def predict(self,x,k):\n",
    "        \"\"\"\n",
    "        Predict the next k states in the absence of observations.\n",
    "\n",
    "        Parameters\n",
    "        ----------\n",
    "        x : ndarray of shape (n,)\n",
    "            The current state estimate.\n",
    "        k : integer\n",
    "            The number of states to predict.\n",
    "\n",
    "        Returns\n",
    "        -------\n",
    "        out : ndarray of shape (n,k)\n",
    "            The next k predicted states.\n",
    "        \"\"\"\n",
    "        #initialize\n",
    "        n = len(x)\n",
    "        out = np.zeros((n,k))\n",
    "        #first one based off of given observation\n",
    "        out[:,0] = self.F@x + self.u\n",
    "        for i in range(k-1): #fill rest with equation\n",
    "            out[:,i+1] = self.F@out[:,i] + self.u\n",
    "\n",
    "        return out\n",
    "\n",
    "\n",
    "\n",
    "    def rewind(self,x,k):\n",
    "        \"\"\"\n",
    "        Predict the states from time 0 through k-1 in the absence of observations.\n",
    "\n",
    "        Parameters\n",
    "        ----------\n",
    "        x : ndarray of shape (n,)\n",
    "            The state estimate at time k.\n",
    "        k : integer\n",
    "            The current time step.\n",
    "\n",
    "        Returns\n",
    "        -------\n",
    "        out : ndarray of shape (n,k)\n",
    "            The predicted states from time 0 up through k-1 (in that order).\n",
    "        \"\"\"\n",
    "        n = len(x)\n",
    "        iF = inv(self.F) #calling it a lot so calculate once\n",
    "        out = np.zeros((n,k))\n",
    "        out[:,-1] = iF@(x - self.u) #make sure to go backward\n",
    "        for i in range(k-1):\n",
    "            out[:,-1-(i+1)] = iF@(out[:,-1-i] - self.u) # going backward\n",
    "\n",
    "        return out"
   ]
  },
  {
   "cell_type": "code",
   "execution_count": 9,
   "metadata": {},
   "outputs": [],
   "source": [
    "A,C,R,K = SBR(5,10,1,6,train)\n",
    "\n",
    "\n",
    "A = np.real(A)\n",
    "C = np.real(C)\n",
    "\n",
    "F = A\n",
    "G = np.eye(A.shape[0])\n",
    "Q = np.eye(A.shape[0])\n",
    "H = C\n",
    "R = R\n",
    "u = np.zeros(6)\n",
    "x0hat = np.array(np.ones(6))\n",
    "\n",
    "P = .1*np.eye(Q.shape[0]) "
   ]
  },
  {
   "cell_type": "code",
   "execution_count": 10,
   "metadata": {},
   "outputs": [],
   "source": [
    "KF = KalmanFilter(F,Q,H,R,u)"
   ]
  },
  {
   "cell_type": "code",
   "execution_count": 11,
   "metadata": {},
   "outputs": [
    {
     "name": "stderr",
     "output_type": "stream",
     "text": [
      "/Library/Frameworks/Python.framework/Versions/3.7/lib/python3.7/site-packages/ipykernel_launcher.py:101: ComplexWarning: Casting complex values to real discards the imaginary part\n"
     ]
    }
   ],
   "source": [
    "X_hat = KF.estimate(x0hat,P,train)"
   ]
  },
  {
   "cell_type": "code",
   "execution_count": 12,
   "metadata": {},
   "outputs": [],
   "source": [
    "final_state = X_hat[:,-1]\n",
    "predict = KF.predict(final_state,5)"
   ]
  },
  {
   "cell_type": "code",
   "execution_count": 13,
   "metadata": {},
   "outputs": [],
   "source": [
    "pred = np.real(H@predict)[0]"
   ]
  },
  {
   "cell_type": "code",
   "execution_count": 14,
   "metadata": {},
   "outputs": [
    {
     "data": {
      "image/png": "[encoded data removed]",
      "text/plain": [
       "<Figure size 432x288 with 1 Axes>"
      ]
     },
     "metadata": {
      "needs_background": "light"
     },
     "output_type": "display_data"
    }
   ],
   "source": [
    "\n",
    "x1 = np.arange(0,40)\n",
    "x2 = np.arange(40,45)\n",
    "plt.figure(figsize = (6,4))\n",
    "plt.plot(x1,train, label = \"Training (True) Observations\")\n",
    "plt.plot(x1,np.real(H@X_hat)[0], label = \"Predicted Training Observations\")\n",
    "plt.plot(x2,test, label = \"Test (True) Observations\")\n",
    "plt.plot(x2, pred, label = \"Predicted Test Observations\")\n",
    "plt.legend()\n",
    "plt.xlabel(\"Cycle Number\")\n",
    "plt.ylabel(\"Cycle Length\")\n",
    "plt.title(\"Participant nfp8177\")\n",
    "plt.savefig(\"Kalman_nfp8177.png\")"
   ]
  },
  {
   "cell_type": "code",
   "execution_count": 15,
   "metadata": {},
   "outputs": [],
   "source": [
    "#run estimation for state space filter\n",
    "kf = K_F(transition_matrices = A, observation_matrices = C,em_vars = ['initial_state_mean', 'initial_state_covariance'])\n",
    "measurements = train  \n",
    "kf = kf.em(measurements, n_iter=5)\n",
    "filtered_state_means, filtered_state_covariances = kf.filter(measurements)\n"
   ]
  },
  {
   "cell_type": "code",
   "execution_count": 16,
   "metadata": {},
   "outputs": [],
   "source": [
    "#run prediction with Kalman Filter class\n",
    "predict = KF.predict(filtered_state_means[-1],5)\n",
    "pred = np.real(H@predict)[0]"
   ]
  },
  {
   "cell_type": "code",
   "execution_count": 17,
   "metadata": {},
   "outputs": [
    {
     "data": {
      "text/plain": [
       "<matplotlib.legend.Legend at 0x7f8499d34bd0>"
      ]
     },
     "execution_count": 17,
     "metadata": {},
     "output_type": "execute_result"
    },
    {
     "data": {
      "image/png": "[encoded data removed]",
      "text/plain": [
       "<Figure size 432x288 with 1 Axes>"
      ]
     },
     "metadata": {
      "needs_background": "light"
     },
     "output_type": "display_data"
    }
   ],
   "source": [
    "x1 = np.arange(0,40)\n",
    "x2 = np.arange(40,45)\n",
    "plt.plot(x1,train, label = \"Training (True) Observations\")\n",
    "plt.plot(x1,np.real(H@X_hat)[0], label = \"Predicted Training Observations\")\n",
    "plt.plot(x2,test, label = \"Test (True) Observations\")\n",
    "plt.plot(x2, pred, label = \"Predicted Test Observations\")\n",
    "plt.legend()"
   ]
  },
  {
   "cell_type": "code",
   "execution_count": null,
   "metadata": {},
   "outputs": [],
   "source": []
  }
 ],
 "metadata": {
  "kernelspec": {
   "display_name": "Python 3",
   "language": "python",
   "name": "python3"
  },
  "language_info": {
   "codemirror_mode": {
    "name": "ipython",
    "version": 3
   },
   "file_extension": ".py",
   "mimetype": "text/x-python",
   "name": "python",
   "nbconvert_exporter": "python",
   "pygments_lexer": "ipython3",
   "version": "3.7.5"
  }
 },
 "nbformat": 4,
 "nbformat_minor": 2
}
